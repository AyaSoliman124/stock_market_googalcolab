{
  "nbformat": 4,
  "nbformat_minor": 0,
  "metadata": {
    "colab": {
      "provenance": [],
      "authorship_tag": "ABX9TyMLIaT7wAnNbnYbO1dxxBPj",
      "include_colab_link": true
    },
    "kernelspec": {
      "name": "python3",
      "display_name": "Python 3"
    },
    "language_info": {
      "name": "python"
    }
  },
  "cells": [
    {
      "cell_type": "markdown",
      "metadata": {
        "id": "view-in-github",
        "colab_type": "text"
      },
      "source": [
        "<a href=\"https://colab.research.google.com/github/AyaSoliman124/stock_market_googalcolab/blob/main/stock_market.ipynb\" target=\"_parent\"><img src=\"https://colab.research.google.com/assets/colab-badge.svg\" alt=\"Open In Colab\"/></a>"
      ]
    },
    {
      "cell_type": "code",
      "execution_count": 81,
      "metadata": {
        "id": "8fwNAPzRLevB"
      },
      "outputs": [],
      "source": [
        "import numpy as np\n",
        "import pandas as pd\n",
        "import seaborn as sns\n",
        "import math\n",
        "from sklearn.model_selection import train_test_split\n",
        "#from sklearn.ensemble import RandomForestClassifier\n",
        "#from sklearn.metrics import accuracy_score\n",
        "import matplotlib.pyplot as plt\n",
        "from sklearn import metrics\n",
        "%matplotlib inline"
      ]
    },
    {
      "cell_type": "code",
      "source": [
        "stock_market_dataset = pd.read_csv('/content/dataset_train_validation.csv')"
      ],
      "metadata": {
        "id": "mTnGa6OJBxqL"
      },
      "execution_count": 51,
      "outputs": []
    },
    {
      "cell_type": "code",
      "source": [
        "stock_market_dataset.head()"
      ],
      "metadata": {
        "colab": {
          "base_uri": "https://localhost:8080/",
          "height": 299
        },
        "id": "mCFWuA_4Cn2d",
        "outputId": "4c04d07e-db4e-411f-b240-4a247e7b250f"
      },
      "execution_count": 52,
      "outputs": [
        {
          "output_type": "execute_result",
          "data": {
            "text/plain": [
              "  company  age  market  year  month  day  hour  minute  volume      high  ...  \\\n",
              "0    ABEO  0.0  NASDAQ  2021     12   10    15      30  278351    0.6348  ...   \n",
              "1    ABEO  1.0  NASDAQ  2021     12    9    15      30  617597    0.6800  ...   \n",
              "2    ABEO  2.0  NASDAQ  2021     12    8    15      30  559104  662.0000  ...   \n",
              "3    ABEO  3.0  NASDAQ  2021     12    7    15      30  903964  648.0000  ...   \n",
              "4    ABEO  4.0  NASDAQ  2021     12    6    15      30  767570  593.0000  ...   \n",
              "\n",
              "   AVERAGE_SMA_50_HIGHLOW  EMA_50_HIGHLOW  MACD_50_HIGHLOW  \\\n",
              "0                     0.1         60000.0          20000.0   \n",
              "1                     0.1         60000.0          20000.0   \n",
              "2                     0.1         60000.0          20000.0   \n",
              "3                     0.1         60000.0          20000.0   \n",
              "4                     0.1         60000.0          20000.0   \n",
              "\n",
              "   AVERAGE_SMA_50_VOLUME  EMA_50_VOLUME  MACD_50_VOLUME  \\\n",
              "0               885269.5   5.061970e+08    9.576243e+08   \n",
              "1               887668.9  -1.389370e+09   -1.990617e+09   \n",
              "2               890856.3   1.798030e+09   -2.015143e+09   \n",
              "3               887078.7  -1.979490e+09   -5.506743e+08   \n",
              "4               884102.2  -6.610230e+08   -8.766870e+08   \n",
              "\n",
              "   DAYS_UNTIL_END_OF_MONTH  DAYS_UNTIL_END_OF_TRIMESTER  DINAMIC3  TARGET  \n",
              "0                     18.0                         18.0    0.2421     NaN  \n",
              "1                     18.0                         18.0    0.5423     NaN  \n",
              "2                     18.0                         18.0    0.4533     NaN  \n",
              "3                     18.0                         18.0    0.7181     NaN  \n",
              "4                     18.0                         18.0    0.5691     NaN  \n",
              "\n",
              "[5 rows x 77 columns]"
            ],
            "text/html": [
              "\n",
              "  <div id=\"df-a3305254-84ab-4b54-a637-7cd8bc21c22c\">\n",
              "    <div class=\"colab-df-container\">\n",
              "      <div>\n",
              "<style scoped>\n",
              "    .dataframe tbody tr th:only-of-type {\n",
              "        vertical-align: middle;\n",
              "    }\n",
              "\n",
              "    .dataframe tbody tr th {\n",
              "        vertical-align: top;\n",
              "    }\n",
              "\n",
              "    .dataframe thead th {\n",
              "        text-align: right;\n",
              "    }\n",
              "</style>\n",
              "<table border=\"1\" class=\"dataframe\">\n",
              "  <thead>\n",
              "    <tr style=\"text-align: right;\">\n",
              "      <th></th>\n",
              "      <th>company</th>\n",
              "      <th>age</th>\n",
              "      <th>market</th>\n",
              "      <th>year</th>\n",
              "      <th>month</th>\n",
              "      <th>day</th>\n",
              "      <th>hour</th>\n",
              "      <th>minute</th>\n",
              "      <th>volume</th>\n",
              "      <th>high</th>\n",
              "      <th>...</th>\n",
              "      <th>AVERAGE_SMA_50_HIGHLOW</th>\n",
              "      <th>EMA_50_HIGHLOW</th>\n",
              "      <th>MACD_50_HIGHLOW</th>\n",
              "      <th>AVERAGE_SMA_50_VOLUME</th>\n",
              "      <th>EMA_50_VOLUME</th>\n",
              "      <th>MACD_50_VOLUME</th>\n",
              "      <th>DAYS_UNTIL_END_OF_MONTH</th>\n",
              "      <th>DAYS_UNTIL_END_OF_TRIMESTER</th>\n",
              "      <th>DINAMIC3</th>\n",
              "      <th>TARGET</th>\n",
              "    </tr>\n",
              "  </thead>\n",
              "  <tbody>\n",
              "    <tr>\n",
              "      <th>0</th>\n",
              "      <td>ABEO</td>\n",
              "      <td>0.0</td>\n",
              "      <td>NASDAQ</td>\n",
              "      <td>2021</td>\n",
              "      <td>12</td>\n",
              "      <td>10</td>\n",
              "      <td>15</td>\n",
              "      <td>30</td>\n",
              "      <td>278351</td>\n",
              "      <td>0.6348</td>\n",
              "      <td>...</td>\n",
              "      <td>0.1</td>\n",
              "      <td>60000.0</td>\n",
              "      <td>20000.0</td>\n",
              "      <td>885269.5</td>\n",
              "      <td>5.061970e+08</td>\n",
              "      <td>9.576243e+08</td>\n",
              "      <td>18.0</td>\n",
              "      <td>18.0</td>\n",
              "      <td>0.2421</td>\n",
              "      <td>NaN</td>\n",
              "    </tr>\n",
              "    <tr>\n",
              "      <th>1</th>\n",
              "      <td>ABEO</td>\n",
              "      <td>1.0</td>\n",
              "      <td>NASDAQ</td>\n",
              "      <td>2021</td>\n",
              "      <td>12</td>\n",
              "      <td>9</td>\n",
              "      <td>15</td>\n",
              "      <td>30</td>\n",
              "      <td>617597</td>\n",
              "      <td>0.6800</td>\n",
              "      <td>...</td>\n",
              "      <td>0.1</td>\n",
              "      <td>60000.0</td>\n",
              "      <td>20000.0</td>\n",
              "      <td>887668.9</td>\n",
              "      <td>-1.389370e+09</td>\n",
              "      <td>-1.990617e+09</td>\n",
              "      <td>18.0</td>\n",
              "      <td>18.0</td>\n",
              "      <td>0.5423</td>\n",
              "      <td>NaN</td>\n",
              "    </tr>\n",
              "    <tr>\n",
              "      <th>2</th>\n",
              "      <td>ABEO</td>\n",
              "      <td>2.0</td>\n",
              "      <td>NASDAQ</td>\n",
              "      <td>2021</td>\n",
              "      <td>12</td>\n",
              "      <td>8</td>\n",
              "      <td>15</td>\n",
              "      <td>30</td>\n",
              "      <td>559104</td>\n",
              "      <td>662.0000</td>\n",
              "      <td>...</td>\n",
              "      <td>0.1</td>\n",
              "      <td>60000.0</td>\n",
              "      <td>20000.0</td>\n",
              "      <td>890856.3</td>\n",
              "      <td>1.798030e+09</td>\n",
              "      <td>-2.015143e+09</td>\n",
              "      <td>18.0</td>\n",
              "      <td>18.0</td>\n",
              "      <td>0.4533</td>\n",
              "      <td>NaN</td>\n",
              "    </tr>\n",
              "    <tr>\n",
              "      <th>3</th>\n",
              "      <td>ABEO</td>\n",
              "      <td>3.0</td>\n",
              "      <td>NASDAQ</td>\n",
              "      <td>2021</td>\n",
              "      <td>12</td>\n",
              "      <td>7</td>\n",
              "      <td>15</td>\n",
              "      <td>30</td>\n",
              "      <td>903964</td>\n",
              "      <td>648.0000</td>\n",
              "      <td>...</td>\n",
              "      <td>0.1</td>\n",
              "      <td>60000.0</td>\n",
              "      <td>20000.0</td>\n",
              "      <td>887078.7</td>\n",
              "      <td>-1.979490e+09</td>\n",
              "      <td>-5.506743e+08</td>\n",
              "      <td>18.0</td>\n",
              "      <td>18.0</td>\n",
              "      <td>0.7181</td>\n",
              "      <td>NaN</td>\n",
              "    </tr>\n",
              "    <tr>\n",
              "      <th>4</th>\n",
              "      <td>ABEO</td>\n",
              "      <td>4.0</td>\n",
              "      <td>NASDAQ</td>\n",
              "      <td>2021</td>\n",
              "      <td>12</td>\n",
              "      <td>6</td>\n",
              "      <td>15</td>\n",
              "      <td>30</td>\n",
              "      <td>767570</td>\n",
              "      <td>593.0000</td>\n",
              "      <td>...</td>\n",
              "      <td>0.1</td>\n",
              "      <td>60000.0</td>\n",
              "      <td>20000.0</td>\n",
              "      <td>884102.2</td>\n",
              "      <td>-6.610230e+08</td>\n",
              "      <td>-8.766870e+08</td>\n",
              "      <td>18.0</td>\n",
              "      <td>18.0</td>\n",
              "      <td>0.5691</td>\n",
              "      <td>NaN</td>\n",
              "    </tr>\n",
              "  </tbody>\n",
              "</table>\n",
              "<p>5 rows × 77 columns</p>\n",
              "</div>\n",
              "      <button class=\"colab-df-convert\" onclick=\"convertToInteractive('df-a3305254-84ab-4b54-a637-7cd8bc21c22c')\"\n",
              "              title=\"Convert this dataframe to an interactive table.\"\n",
              "              style=\"display:none;\">\n",
              "        \n",
              "  <svg xmlns=\"http://www.w3.org/2000/svg\" height=\"24px\"viewBox=\"0 0 24 24\"\n",
              "       width=\"24px\">\n",
              "    <path d=\"M0 0h24v24H0V0z\" fill=\"none\"/>\n",
              "    <path d=\"M18.56 5.44l.94 2.06.94-2.06 2.06-.94-2.06-.94-.94-2.06-.94 2.06-2.06.94zm-11 1L8.5 8.5l.94-2.06 2.06-.94-2.06-.94L8.5 2.5l-.94 2.06-2.06.94zm10 10l.94 2.06.94-2.06 2.06-.94-2.06-.94-.94-2.06-.94 2.06-2.06.94z\"/><path d=\"M17.41 7.96l-1.37-1.37c-.4-.4-.92-.59-1.43-.59-.52 0-1.04.2-1.43.59L10.3 9.45l-7.72 7.72c-.78.78-.78 2.05 0 2.83L4 21.41c.39.39.9.59 1.41.59.51 0 1.02-.2 1.41-.59l7.78-7.78 2.81-2.81c.8-.78.8-2.07 0-2.86zM5.41 20L4 18.59l7.72-7.72 1.47 1.35L5.41 20z\"/>\n",
              "  </svg>\n",
              "      </button>\n",
              "      \n",
              "  <style>\n",
              "    .colab-df-container {\n",
              "      display:flex;\n",
              "      flex-wrap:wrap;\n",
              "      gap: 12px;\n",
              "    }\n",
              "\n",
              "    .colab-df-convert {\n",
              "      background-color: #E8F0FE;\n",
              "      border: none;\n",
              "      border-radius: 50%;\n",
              "      cursor: pointer;\n",
              "      display: none;\n",
              "      fill: #1967D2;\n",
              "      height: 32px;\n",
              "      padding: 0 0 0 0;\n",
              "      width: 32px;\n",
              "    }\n",
              "\n",
              "    .colab-df-convert:hover {\n",
              "      background-color: #E2EBFA;\n",
              "      box-shadow: 0px 1px 2px rgba(60, 64, 67, 0.3), 0px 1px 3px 1px rgba(60, 64, 67, 0.15);\n",
              "      fill: #174EA6;\n",
              "    }\n",
              "\n",
              "    [theme=dark] .colab-df-convert {\n",
              "      background-color: #3B4455;\n",
              "      fill: #D2E3FC;\n",
              "    }\n",
              "\n",
              "    [theme=dark] .colab-df-convert:hover {\n",
              "      background-color: #434B5C;\n",
              "      box-shadow: 0px 1px 3px 1px rgba(0, 0, 0, 0.15);\n",
              "      filter: drop-shadow(0px 1px 2px rgba(0, 0, 0, 0.3));\n",
              "      fill: #FFFFFF;\n",
              "    }\n",
              "  </style>\n",
              "\n",
              "      <script>\n",
              "        const buttonEl =\n",
              "          document.querySelector('#df-a3305254-84ab-4b54-a637-7cd8bc21c22c button.colab-df-convert');\n",
              "        buttonEl.style.display =\n",
              "          google.colab.kernel.accessAllowed ? 'block' : 'none';\n",
              "\n",
              "        async function convertToInteractive(key) {\n",
              "          const element = document.querySelector('#df-a3305254-84ab-4b54-a637-7cd8bc21c22c');\n",
              "          const dataTable =\n",
              "            await google.colab.kernel.invokeFunction('convertToInteractive',\n",
              "                                                     [key], {});\n",
              "          if (!dataTable) return;\n",
              "\n",
              "          const docLinkHtml = 'Like what you see? Visit the ' +\n",
              "            '<a target=\"_blank\" href=https://colab.research.google.com/notebooks/data_table.ipynb>data table notebook</a>'\n",
              "            + ' to learn more about interactive tables.';\n",
              "          element.innerHTML = '';\n",
              "          dataTable['output_type'] = 'display_data';\n",
              "          await google.colab.output.renderOutput(dataTable, element);\n",
              "          const docLink = document.createElement('div');\n",
              "          docLink.innerHTML = docLinkHtml;\n",
              "          element.appendChild(docLink);\n",
              "        }\n",
              "      </script>\n",
              "    </div>\n",
              "  </div>\n",
              "  "
            ]
          },
          "metadata": {},
          "execution_count": 52
        }
      ]
    },
    {
      "cell_type": "code",
      "source": [
        "stock_market_dataset['Date'] = pd.to_datetime"
      ],
      "metadata": {
        "id": "9myhtDf-UmH2"
      },
      "execution_count": 26,
      "outputs": []
    },
    {
      "cell_type": "code",
      "source": [
        "stock_market_dataset.shape"
      ],
      "metadata": {
        "colab": {
          "base_uri": "https://localhost:8080/"
        },
        "id": "2fWWeHl3VL-0",
        "outputId": "dbea325e-0595-482f-9b8d-9ed9e07e6252"
      },
      "execution_count": 27,
      "outputs": [
        {
          "output_type": "execute_result",
          "data": {
            "text/plain": [
              "(100044, 78)"
            ]
          },
          "metadata": {},
          "execution_count": 27
        }
      ]
    },
    {
      "cell_type": "code",
      "source": [
        "stock_market_dataset.drop('close' ,axis=1, inplace = True)"
      ],
      "metadata": {
        "id": "yVecxzeFW6vp"
      },
      "execution_count": 28,
      "outputs": []
    },
    {
      "cell_type": "code",
      "source": [
        "stock_market_dataset.head()"
      ],
      "metadata": {
        "colab": {
          "base_uri": "https://localhost:8080/",
          "height": 473
        },
        "id": "XH4qSNMCX0h8",
        "outputId": "7e405848-e2ab-4c12-c4d0-a2a02f506502"
      },
      "execution_count": 29,
      "outputs": [
        {
          "output_type": "execute_result",
          "data": {
            "text/plain": [
              "  company  age  market  year  month  day  hour  minute  volume      high  ...  \\\n",
              "0    ABEO  0.0  NASDAQ  2021     12   10    15      30  278351    0.6348  ...   \n",
              "1    ABEO  1.0  NASDAQ  2021     12    9    15      30  617597    0.6800  ...   \n",
              "2    ABEO  2.0  NASDAQ  2021     12    8    15      30  559104  662.0000  ...   \n",
              "3    ABEO  3.0  NASDAQ  2021     12    7    15      30  903964  648.0000  ...   \n",
              "4    ABEO  4.0  NASDAQ  2021     12    6    15      30  767570  593.0000  ...   \n",
              "\n",
              "   EMA_50_HIGHLOW  MACD_50_HIGHLOW  AVERAGE_SMA_50_VOLUME  EMA_50_VOLUME  \\\n",
              "0         60000.0          20000.0               885269.5   5.061970e+08   \n",
              "1         60000.0          20000.0               887668.9  -1.389370e+09   \n",
              "2         60000.0          20000.0               890856.3   1.798030e+09   \n",
              "3         60000.0          20000.0               887078.7  -1.979490e+09   \n",
              "4         60000.0          20000.0               884102.2  -6.610230e+08   \n",
              "\n",
              "   MACD_50_VOLUME  DAYS_UNTIL_END_OF_MONTH  DAYS_UNTIL_END_OF_TRIMESTER  \\\n",
              "0    9.576243e+08                     18.0                         18.0   \n",
              "1   -1.990617e+09                     18.0                         18.0   \n",
              "2   -2.015143e+09                     18.0                         18.0   \n",
              "3   -5.506743e+08                     18.0                         18.0   \n",
              "4   -8.766870e+08                     18.0                         18.0   \n",
              "\n",
              "   DINAMIC3  TARGET                                      Date  \n",
              "0    0.2421     NaN  <function to_datetime at 0x7f2bb792db80>  \n",
              "1    0.5423     NaN  <function to_datetime at 0x7f2bb792db80>  \n",
              "2    0.4533     NaN  <function to_datetime at 0x7f2bb792db80>  \n",
              "3    0.7181     NaN  <function to_datetime at 0x7f2bb792db80>  \n",
              "4    0.5691     NaN  <function to_datetime at 0x7f2bb792db80>  \n",
              "\n",
              "[5 rows x 77 columns]"
            ],
            "text/html": [
              "\n",
              "  <div id=\"df-ee0b2d0c-9ed0-409a-8242-843cb7db5efa\">\n",
              "    <div class=\"colab-df-container\">\n",
              "      <div>\n",
              "<style scoped>\n",
              "    .dataframe tbody tr th:only-of-type {\n",
              "        vertical-align: middle;\n",
              "    }\n",
              "\n",
              "    .dataframe tbody tr th {\n",
              "        vertical-align: top;\n",
              "    }\n",
              "\n",
              "    .dataframe thead th {\n",
              "        text-align: right;\n",
              "    }\n",
              "</style>\n",
              "<table border=\"1\" class=\"dataframe\">\n",
              "  <thead>\n",
              "    <tr style=\"text-align: right;\">\n",
              "      <th></th>\n",
              "      <th>company</th>\n",
              "      <th>age</th>\n",
              "      <th>market</th>\n",
              "      <th>year</th>\n",
              "      <th>month</th>\n",
              "      <th>day</th>\n",
              "      <th>hour</th>\n",
              "      <th>minute</th>\n",
              "      <th>volume</th>\n",
              "      <th>high</th>\n",
              "      <th>...</th>\n",
              "      <th>EMA_50_HIGHLOW</th>\n",
              "      <th>MACD_50_HIGHLOW</th>\n",
              "      <th>AVERAGE_SMA_50_VOLUME</th>\n",
              "      <th>EMA_50_VOLUME</th>\n",
              "      <th>MACD_50_VOLUME</th>\n",
              "      <th>DAYS_UNTIL_END_OF_MONTH</th>\n",
              "      <th>DAYS_UNTIL_END_OF_TRIMESTER</th>\n",
              "      <th>DINAMIC3</th>\n",
              "      <th>TARGET</th>\n",
              "      <th>Date</th>\n",
              "    </tr>\n",
              "  </thead>\n",
              "  <tbody>\n",
              "    <tr>\n",
              "      <th>0</th>\n",
              "      <td>ABEO</td>\n",
              "      <td>0.0</td>\n",
              "      <td>NASDAQ</td>\n",
              "      <td>2021</td>\n",
              "      <td>12</td>\n",
              "      <td>10</td>\n",
              "      <td>15</td>\n",
              "      <td>30</td>\n",
              "      <td>278351</td>\n",
              "      <td>0.6348</td>\n",
              "      <td>...</td>\n",
              "      <td>60000.0</td>\n",
              "      <td>20000.0</td>\n",
              "      <td>885269.5</td>\n",
              "      <td>5.061970e+08</td>\n",
              "      <td>9.576243e+08</td>\n",
              "      <td>18.0</td>\n",
              "      <td>18.0</td>\n",
              "      <td>0.2421</td>\n",
              "      <td>NaN</td>\n",
              "      <td>&lt;function to_datetime at 0x7f2bb792db80&gt;</td>\n",
              "    </tr>\n",
              "    <tr>\n",
              "      <th>1</th>\n",
              "      <td>ABEO</td>\n",
              "      <td>1.0</td>\n",
              "      <td>NASDAQ</td>\n",
              "      <td>2021</td>\n",
              "      <td>12</td>\n",
              "      <td>9</td>\n",
              "      <td>15</td>\n",
              "      <td>30</td>\n",
              "      <td>617597</td>\n",
              "      <td>0.6800</td>\n",
              "      <td>...</td>\n",
              "      <td>60000.0</td>\n",
              "      <td>20000.0</td>\n",
              "      <td>887668.9</td>\n",
              "      <td>-1.389370e+09</td>\n",
              "      <td>-1.990617e+09</td>\n",
              "      <td>18.0</td>\n",
              "      <td>18.0</td>\n",
              "      <td>0.5423</td>\n",
              "      <td>NaN</td>\n",
              "      <td>&lt;function to_datetime at 0x7f2bb792db80&gt;</td>\n",
              "    </tr>\n",
              "    <tr>\n",
              "      <th>2</th>\n",
              "      <td>ABEO</td>\n",
              "      <td>2.0</td>\n",
              "      <td>NASDAQ</td>\n",
              "      <td>2021</td>\n",
              "      <td>12</td>\n",
              "      <td>8</td>\n",
              "      <td>15</td>\n",
              "      <td>30</td>\n",
              "      <td>559104</td>\n",
              "      <td>662.0000</td>\n",
              "      <td>...</td>\n",
              "      <td>60000.0</td>\n",
              "      <td>20000.0</td>\n",
              "      <td>890856.3</td>\n",
              "      <td>1.798030e+09</td>\n",
              "      <td>-2.015143e+09</td>\n",
              "      <td>18.0</td>\n",
              "      <td>18.0</td>\n",
              "      <td>0.4533</td>\n",
              "      <td>NaN</td>\n",
              "      <td>&lt;function to_datetime at 0x7f2bb792db80&gt;</td>\n",
              "    </tr>\n",
              "    <tr>\n",
              "      <th>3</th>\n",
              "      <td>ABEO</td>\n",
              "      <td>3.0</td>\n",
              "      <td>NASDAQ</td>\n",
              "      <td>2021</td>\n",
              "      <td>12</td>\n",
              "      <td>7</td>\n",
              "      <td>15</td>\n",
              "      <td>30</td>\n",
              "      <td>903964</td>\n",
              "      <td>648.0000</td>\n",
              "      <td>...</td>\n",
              "      <td>60000.0</td>\n",
              "      <td>20000.0</td>\n",
              "      <td>887078.7</td>\n",
              "      <td>-1.979490e+09</td>\n",
              "      <td>-5.506743e+08</td>\n",
              "      <td>18.0</td>\n",
              "      <td>18.0</td>\n",
              "      <td>0.7181</td>\n",
              "      <td>NaN</td>\n",
              "      <td>&lt;function to_datetime at 0x7f2bb792db80&gt;</td>\n",
              "    </tr>\n",
              "    <tr>\n",
              "      <th>4</th>\n",
              "      <td>ABEO</td>\n",
              "      <td>4.0</td>\n",
              "      <td>NASDAQ</td>\n",
              "      <td>2021</td>\n",
              "      <td>12</td>\n",
              "      <td>6</td>\n",
              "      <td>15</td>\n",
              "      <td>30</td>\n",
              "      <td>767570</td>\n",
              "      <td>593.0000</td>\n",
              "      <td>...</td>\n",
              "      <td>60000.0</td>\n",
              "      <td>20000.0</td>\n",
              "      <td>884102.2</td>\n",
              "      <td>-6.610230e+08</td>\n",
              "      <td>-8.766870e+08</td>\n",
              "      <td>18.0</td>\n",
              "      <td>18.0</td>\n",
              "      <td>0.5691</td>\n",
              "      <td>NaN</td>\n",
              "      <td>&lt;function to_datetime at 0x7f2bb792db80&gt;</td>\n",
              "    </tr>\n",
              "  </tbody>\n",
              "</table>\n",
              "<p>5 rows × 77 columns</p>\n",
              "</div>\n",
              "      <button class=\"colab-df-convert\" onclick=\"convertToInteractive('df-ee0b2d0c-9ed0-409a-8242-843cb7db5efa')\"\n",
              "              title=\"Convert this dataframe to an interactive table.\"\n",
              "              style=\"display:none;\">\n",
              "        \n",
              "  <svg xmlns=\"http://www.w3.org/2000/svg\" height=\"24px\"viewBox=\"0 0 24 24\"\n",
              "       width=\"24px\">\n",
              "    <path d=\"M0 0h24v24H0V0z\" fill=\"none\"/>\n",
              "    <path d=\"M18.56 5.44l.94 2.06.94-2.06 2.06-.94-2.06-.94-.94-2.06-.94 2.06-2.06.94zm-11 1L8.5 8.5l.94-2.06 2.06-.94-2.06-.94L8.5 2.5l-.94 2.06-2.06.94zm10 10l.94 2.06.94-2.06 2.06-.94-2.06-.94-.94-2.06-.94 2.06-2.06.94z\"/><path d=\"M17.41 7.96l-1.37-1.37c-.4-.4-.92-.59-1.43-.59-.52 0-1.04.2-1.43.59L10.3 9.45l-7.72 7.72c-.78.78-.78 2.05 0 2.83L4 21.41c.39.39.9.59 1.41.59.51 0 1.02-.2 1.41-.59l7.78-7.78 2.81-2.81c.8-.78.8-2.07 0-2.86zM5.41 20L4 18.59l7.72-7.72 1.47 1.35L5.41 20z\"/>\n",
              "  </svg>\n",
              "      </button>\n",
              "      \n",
              "  <style>\n",
              "    .colab-df-container {\n",
              "      display:flex;\n",
              "      flex-wrap:wrap;\n",
              "      gap: 12px;\n",
              "    }\n",
              "\n",
              "    .colab-df-convert {\n",
              "      background-color: #E8F0FE;\n",
              "      border: none;\n",
              "      border-radius: 50%;\n",
              "      cursor: pointer;\n",
              "      display: none;\n",
              "      fill: #1967D2;\n",
              "      height: 32px;\n",
              "      padding: 0 0 0 0;\n",
              "      width: 32px;\n",
              "    }\n",
              "\n",
              "    .colab-df-convert:hover {\n",
              "      background-color: #E2EBFA;\n",
              "      box-shadow: 0px 1px 2px rgba(60, 64, 67, 0.3), 0px 1px 3px 1px rgba(60, 64, 67, 0.15);\n",
              "      fill: #174EA6;\n",
              "    }\n",
              "\n",
              "    [theme=dark] .colab-df-convert {\n",
              "      background-color: #3B4455;\n",
              "      fill: #D2E3FC;\n",
              "    }\n",
              "\n",
              "    [theme=dark] .colab-df-convert:hover {\n",
              "      background-color: #434B5C;\n",
              "      box-shadow: 0px 1px 3px 1px rgba(0, 0, 0, 0.15);\n",
              "      filter: drop-shadow(0px 1px 2px rgba(0, 0, 0, 0.3));\n",
              "      fill: #FFFFFF;\n",
              "    }\n",
              "  </style>\n",
              "\n",
              "      <script>\n",
              "        const buttonEl =\n",
              "          document.querySelector('#df-ee0b2d0c-9ed0-409a-8242-843cb7db5efa button.colab-df-convert');\n",
              "        buttonEl.style.display =\n",
              "          google.colab.kernel.accessAllowed ? 'block' : 'none';\n",
              "\n",
              "        async function convertToInteractive(key) {\n",
              "          const element = document.querySelector('#df-ee0b2d0c-9ed0-409a-8242-843cb7db5efa');\n",
              "          const dataTable =\n",
              "            await google.colab.kernel.invokeFunction('convertToInteractive',\n",
              "                                                     [key], {});\n",
              "          if (!dataTable) return;\n",
              "\n",
              "          const docLinkHtml = 'Like what you see? Visit the ' +\n",
              "            '<a target=\"_blank\" href=https://colab.research.google.com/notebooks/data_table.ipynb>data table notebook</a>'\n",
              "            + ' to learn more about interactive tables.';\n",
              "          element.innerHTML = '';\n",
              "          dataTable['output_type'] = 'display_data';\n",
              "          await google.colab.output.renderOutput(dataTable, element);\n",
              "          const docLink = document.createElement('div');\n",
              "          docLink.innerHTML = docLinkHtml;\n",
              "          element.appendChild(docLink);\n",
              "        }\n",
              "      </script>\n",
              "    </div>\n",
              "  </div>\n",
              "  "
            ]
          },
          "metadata": {},
          "execution_count": 29
        }
      ]
    },
    {
      "cell_type": "code",
      "source": [
        "stock_market_dataset.isnull().sum()"
      ],
      "metadata": {
        "colab": {
          "base_uri": "https://localhost:8080/"
        },
        "id": "CM3F53o1YVhW",
        "outputId": "2dcb6b40-c42b-46f2-e3c3-51b170eb6c60"
      },
      "execution_count": 30,
      "outputs": [
        {
          "output_type": "execute_result",
          "data": {
            "text/plain": [
              "company                            0\n",
              "age                                0\n",
              "market                             0\n",
              "year                               0\n",
              "month                              0\n",
              "                               ...  \n",
              "DAYS_UNTIL_END_OF_MONTH         1191\n",
              "DAYS_UNTIL_END_OF_TRIMESTER     1191\n",
              "DINAMIC3                        1191\n",
              "TARGET                         16277\n",
              "Date                               0\n",
              "Length: 77, dtype: int64"
            ]
          },
          "metadata": {},
          "execution_count": 30
        }
      ]
    },
    {
      "cell_type": "code",
      "source": [
        "stock_market_dataset.isna().any()"
      ],
      "metadata": {
        "colab": {
          "base_uri": "https://localhost:8080/"
        },
        "id": "hTWBwML2YpS9",
        "outputId": "6aac1fc2-ec4b-4c40-b05d-9610917e53e9"
      },
      "execution_count": 31,
      "outputs": [
        {
          "output_type": "execute_result",
          "data": {
            "text/plain": [
              "company                        False\n",
              "age                            False\n",
              "market                         False\n",
              "year                           False\n",
              "month                          False\n",
              "                               ...  \n",
              "DAYS_UNTIL_END_OF_MONTH         True\n",
              "DAYS_UNTIL_END_OF_TRIMESTER     True\n",
              "DINAMIC3                        True\n",
              "TARGET                          True\n",
              "Date                           False\n",
              "Length: 77, dtype: bool"
            ]
          },
          "metadata": {},
          "execution_count": 31
        }
      ]
    },
    {
      "cell_type": "code",
      "source": [
        "stock_market_dataset.info()"
      ],
      "metadata": {
        "colab": {
          "base_uri": "https://localhost:8080/"
        },
        "id": "u7PCsgG_ZAik",
        "outputId": "6b995739-a446-4f0e-fa53-23f75dd8aecd"
      },
      "execution_count": 32,
      "outputs": [
        {
          "output_type": "stream",
          "name": "stdout",
          "text": [
            "<class 'pandas.core.frame.DataFrame'>\n",
            "RangeIndex: 100044 entries, 0 to 100043\n",
            "Data columns (total 77 columns):\n",
            " #   Column                       Non-Null Count   Dtype  \n",
            "---  ------                       --------------   -----  \n",
            " 0   company                      100044 non-null  object \n",
            " 1   age                          100044 non-null  float64\n",
            " 2   market                       100044 non-null  object \n",
            " 3   year                         100044 non-null  int64  \n",
            " 4   month                        100044 non-null  int64  \n",
            " 5   day                          100044 non-null  int64  \n",
            " 6   hour                         100044 non-null  int64  \n",
            " 7   minute                       100044 non-null  int64  \n",
            " 8   volume                       100044 non-null  int64  \n",
            " 9   high                         100044 non-null  float64\n",
            " 10  low                          100044 non-null  float64\n",
            " 11  open                         100044 non-null  float64\n",
            " 12  AVERAGE_SMA_3_CLOSE          98853 non-null   float64\n",
            " 13  EMA_3_CLOSE                  98853 non-null   float64\n",
            " 14  MACD_3_CLOSE                 98853 non-null   float64\n",
            " 15  AVERAGE_SMA_3_OPENHIGH       98853 non-null   float64\n",
            " 16  EMA_3_OPENHIGH               98853 non-null   float64\n",
            " 17  MACD_3_OPENHIGH              98853 non-null   float64\n",
            " 18  AVERAGE_SMA_3_HIGHLOW        98853 non-null   float64\n",
            " 19  EMA_3_HIGHLOW                98853 non-null   float64\n",
            " 20  MACD_3_HIGHLOW               98853 non-null   float64\n",
            " 21  AVERAGE_SMA_3_VOLUME         98853 non-null   float64\n",
            " 22  EMA_3_VOLUME                 98853 non-null   float64\n",
            " 23  MACD_3_VOLUME                98853 non-null   float64\n",
            " 24  AVERAGE_SMA_4_CLOSE          98456 non-null   float64\n",
            " 25  EMA_4_CLOSE                  98456 non-null   float64\n",
            " 26  MACD_4_CLOSE                 98456 non-null   float64\n",
            " 27  AVERAGE_SMA_4_OPENHIGH       98456 non-null   float64\n",
            " 28  EMA_4_OPENHIGH               98456 non-null   float64\n",
            " 29  MACD_4_OPENHIGH              98456 non-null   float64\n",
            " 30  AVERAGE_SMA_4_HIGHLOW        98456 non-null   float64\n",
            " 31  EMA_4_HIGHLOW                98456 non-null   float64\n",
            " 32  MACD_4_HIGHLOW               98456 non-null   float64\n",
            " 33  AVERAGE_SMA_4_VOLUME         98456 non-null   float64\n",
            " 34  EMA_4_VOLUME                 98456 non-null   float64\n",
            " 35  MACD_4_VOLUME                98456 non-null   float64\n",
            " 36  AVERAGE_SMA_7_CLOSE          97265 non-null   float64\n",
            " 37  EMA_7_CLOSE                  97265 non-null   float64\n",
            " 38  MACD_7_CLOSE                 97265 non-null   float64\n",
            " 39  AVERAGE_SMA_7_OPENHIGH       97265 non-null   float64\n",
            " 40  EMA_7_OPENHIGH               97265 non-null   float64\n",
            " 41  MACD_7_OPENHIGH              97265 non-null   float64\n",
            " 42  AVERAGE_SMA_7_HIGHLOW        97265 non-null   float64\n",
            " 43  EMA_7_HIGHLOW                97265 non-null   float64\n",
            " 44  MACD_7_HIGHLOW               97265 non-null   float64\n",
            " 45  AVERAGE_SMA_7_VOLUME         97265 non-null   float64\n",
            " 46  EMA_7_VOLUME                 97265 non-null   float64\n",
            " 47  MACD_7_VOLUME                97265 non-null   float64\n",
            " 48  AVERAGE_SMA_20_CLOSE         92104 non-null   float64\n",
            " 49  EMA_20_CLOSE                 92104 non-null   float64\n",
            " 50  MACD_20_CLOSE                92104 non-null   float64\n",
            " 51  AVERAGE_SMA_20_OPENHIGH      92104 non-null   float64\n",
            " 52  EMA_20_OPENHIGH              92104 non-null   float64\n",
            " 53  MACD_20_OPENHIGH             92104 non-null   float64\n",
            " 54  AVERAGE_SMA_20_HIGHLOW       92104 non-null   float64\n",
            " 55  EMA_20_HIGHLOW               92104 non-null   float64\n",
            " 56  MACD_20_HIGHLOW              92104 non-null   float64\n",
            " 57  AVERAGE_SMA_20_VOLUME        92104 non-null   float64\n",
            " 58  EMA_20_VOLUME                92104 non-null   float64\n",
            " 59  MACD_20_VOLUME               92104 non-null   float64\n",
            " 60  AVERAGE_SMA_50_CLOSE         80194 non-null   float64\n",
            " 61  EMA_50_CLOSE                 80194 non-null   float64\n",
            " 62  MACD_50_CLOSE                80194 non-null   float64\n",
            " 63  AVERAGE_SMA_50_OPENHIGH      80194 non-null   float64\n",
            " 64  EMA_50_OPENHIGH              80194 non-null   float64\n",
            " 65  MACD_50_OPENHIGH             80194 non-null   float64\n",
            " 66  AVERAGE_SMA_50_HIGHLOW       80194 non-null   float64\n",
            " 67  EMA_50_HIGHLOW               80194 non-null   float64\n",
            " 68  MACD_50_HIGHLOW              80194 non-null   float64\n",
            " 69  AVERAGE_SMA_50_VOLUME        80194 non-null   float64\n",
            " 70  EMA_50_VOLUME                80194 non-null   float64\n",
            " 71  MACD_50_VOLUME               80194 non-null   float64\n",
            " 72  DAYS_UNTIL_END_OF_MONTH      98853 non-null   float64\n",
            " 73  DAYS_UNTIL_END_OF_TRIMESTER  98853 non-null   float64\n",
            " 74  DINAMIC3                     98853 non-null   float64\n",
            " 75  TARGET                       83767 non-null   float64\n",
            " 76  Date                         100044 non-null  object \n",
            "dtypes: float64(68), int64(6), object(3)\n",
            "memory usage: 58.8+ MB\n"
          ]
        }
      ]
    },
    {
      "cell_type": "code",
      "source": [
        "stock_market_dataset.describe()"
      ],
      "metadata": {
        "colab": {
          "base_uri": "https://localhost:8080/",
          "height": 393
        },
        "id": "wOS51dAoZS0R",
        "outputId": "b413cc31-4fbf-49d4-b711-53b646ba07e7"
      },
      "execution_count": 33,
      "outputs": [
        {
          "output_type": "execute_result",
          "data": {
            "text/plain": [
              "                 age           year          month            day  \\\n",
              "count  100044.000000  100044.000000  100044.000000  100044.000000   \n",
              "mean      125.500000    2020.944444       6.583333      15.646825   \n",
              "std        72.745925       0.229063       3.424515       8.728661   \n",
              "min         0.000000    2020.000000       1.000000       1.000000   \n",
              "25%        62.750000    2021.000000       4.000000       8.000000   \n",
              "50%       125.500000    2021.000000       7.000000      16.000000   \n",
              "75%       188.250000    2021.000000      10.000000      23.000000   \n",
              "max       251.000000    2021.000000      12.000000      31.000000   \n",
              "\n",
              "                hour    minute        volume           high            low  \\\n",
              "count  100044.000000  100044.0  1.000440e+05  100044.000000  100044.000000   \n",
              "mean       14.940476      30.0  1.436458e+06    3062.516832    2860.047756   \n",
              "std         0.236604       0.0  7.907733e+06   22613.941236   22182.926604   \n",
              "min        14.000000      30.0  0.000000e+00       0.279700       0.268900   \n",
              "25%        15.000000      30.0  7.719675e+04       6.099900       5.700000   \n",
              "50%        15.000000      30.0  2.553615e+05      19.911450      18.860000   \n",
              "75%        15.000000      30.0  8.202560e+05      51.452500      48.000000   \n",
              "max        15.000000      30.0  8.054308e+08  847875.000000  861036.000000   \n",
              "\n",
              "                open  ...  AVERAGE_SMA_50_HIGHLOW  EMA_50_HIGHLOW  \\\n",
              "count  100044.000000  ...            80194.000000    8.019400e+04   \n",
              "mean      841.394273  ...                1.411881    1.411873e+06   \n",
              "std     13575.327152  ...                2.211016    2.210930e+06   \n",
              "min         0.270000  ...                0.000000    0.000000e+00   \n",
              "25%         5.560000  ...                0.300000    2.800000e+05   \n",
              "50%        17.970000  ...                0.700000    7.200000e+05   \n",
              "75%        41.610000  ...                1.600000    1.630000e+06   \n",
              "max    829609.000000  ...               26.600000    2.656000e+07   \n",
              "\n",
              "       MACD_50_HIGHLOW  AVERAGE_SMA_50_VOLUME  EMA_50_VOLUME  MACD_50_VOLUME  \\\n",
              "count     8.019400e+04           8.019400e+04   8.019400e+04    8.019400e+04   \n",
              "mean      2.066950e+04           1.390506e+06  -7.499198e+06   -9.431561e+06   \n",
              "std       4.558418e+05           4.159600e+06   1.241015e+09    1.235101e+09   \n",
              "min      -1.173000e+07           2.194000e+02  -2.147444e+09   -2.147484e+09   \n",
              "25%      -4.000000e+04           1.102815e+05  -1.086559e+09   -1.078585e+09   \n",
              "50%       1.000000e+04           3.232925e+05  -1.074090e+07   -2.004285e+07   \n",
              "75%       7.000000e+04           1.027643e+06   1.071889e+09    1.058074e+09   \n",
              "max       1.358000e+07           1.096805e+08   2.147458e+09    2.147430e+09   \n",
              "\n",
              "       DAYS_UNTIL_END_OF_MONTH  DAYS_UNTIL_END_OF_TRIMESTER      DINAMIC3  \\\n",
              "count                  98853.0                      98853.0  98853.000000   \n",
              "mean                      18.0                         18.0     75.375207   \n",
              "std                        0.0                          0.0    588.882050   \n",
              "min                       18.0                         18.0      0.000000   \n",
              "25%                       18.0                         18.0      0.549700   \n",
              "50%                       18.0                         18.0      0.929700   \n",
              "75%                       18.0                         18.0      1.078500   \n",
              "max                       18.0                         18.0  56344.000000   \n",
              "\n",
              "             TARGET  \n",
              "count  83767.000000  \n",
              "mean       0.063533  \n",
              "std        0.243921  \n",
              "min        0.000000  \n",
              "25%        0.000000  \n",
              "50%        0.000000  \n",
              "75%        0.000000  \n",
              "max        1.000000  \n",
              "\n",
              "[8 rows x 74 columns]"
            ],
            "text/html": [
              "\n",
              "  <div id=\"df-fa3948ca-9a0a-4a3d-80a9-1857c1f0bb37\">\n",
              "    <div class=\"colab-df-container\">\n",
              "      <div>\n",
              "<style scoped>\n",
              "    .dataframe tbody tr th:only-of-type {\n",
              "        vertical-align: middle;\n",
              "    }\n",
              "\n",
              "    .dataframe tbody tr th {\n",
              "        vertical-align: top;\n",
              "    }\n",
              "\n",
              "    .dataframe thead th {\n",
              "        text-align: right;\n",
              "    }\n",
              "</style>\n",
              "<table border=\"1\" class=\"dataframe\">\n",
              "  <thead>\n",
              "    <tr style=\"text-align: right;\">\n",
              "      <th></th>\n",
              "      <th>age</th>\n",
              "      <th>year</th>\n",
              "      <th>month</th>\n",
              "      <th>day</th>\n",
              "      <th>hour</th>\n",
              "      <th>minute</th>\n",
              "      <th>volume</th>\n",
              "      <th>high</th>\n",
              "      <th>low</th>\n",
              "      <th>open</th>\n",
              "      <th>...</th>\n",
              "      <th>AVERAGE_SMA_50_HIGHLOW</th>\n",
              "      <th>EMA_50_HIGHLOW</th>\n",
              "      <th>MACD_50_HIGHLOW</th>\n",
              "      <th>AVERAGE_SMA_50_VOLUME</th>\n",
              "      <th>EMA_50_VOLUME</th>\n",
              "      <th>MACD_50_VOLUME</th>\n",
              "      <th>DAYS_UNTIL_END_OF_MONTH</th>\n",
              "      <th>DAYS_UNTIL_END_OF_TRIMESTER</th>\n",
              "      <th>DINAMIC3</th>\n",
              "      <th>TARGET</th>\n",
              "    </tr>\n",
              "  </thead>\n",
              "  <tbody>\n",
              "    <tr>\n",
              "      <th>count</th>\n",
              "      <td>100044.000000</td>\n",
              "      <td>100044.000000</td>\n",
              "      <td>100044.000000</td>\n",
              "      <td>100044.000000</td>\n",
              "      <td>100044.000000</td>\n",
              "      <td>100044.0</td>\n",
              "      <td>1.000440e+05</td>\n",
              "      <td>100044.000000</td>\n",
              "      <td>100044.000000</td>\n",
              "      <td>100044.000000</td>\n",
              "      <td>...</td>\n",
              "      <td>80194.000000</td>\n",
              "      <td>8.019400e+04</td>\n",
              "      <td>8.019400e+04</td>\n",
              "      <td>8.019400e+04</td>\n",
              "      <td>8.019400e+04</td>\n",
              "      <td>8.019400e+04</td>\n",
              "      <td>98853.0</td>\n",
              "      <td>98853.0</td>\n",
              "      <td>98853.000000</td>\n",
              "      <td>83767.000000</td>\n",
              "    </tr>\n",
              "    <tr>\n",
              "      <th>mean</th>\n",
              "      <td>125.500000</td>\n",
              "      <td>2020.944444</td>\n",
              "      <td>6.583333</td>\n",
              "      <td>15.646825</td>\n",
              "      <td>14.940476</td>\n",
              "      <td>30.0</td>\n",
              "      <td>1.436458e+06</td>\n",
              "      <td>3062.516832</td>\n",
              "      <td>2860.047756</td>\n",
              "      <td>841.394273</td>\n",
              "      <td>...</td>\n",
              "      <td>1.411881</td>\n",
              "      <td>1.411873e+06</td>\n",
              "      <td>2.066950e+04</td>\n",
              "      <td>1.390506e+06</td>\n",
              "      <td>-7.499198e+06</td>\n",
              "      <td>-9.431561e+06</td>\n",
              "      <td>18.0</td>\n",
              "      <td>18.0</td>\n",
              "      <td>75.375207</td>\n",
              "      <td>0.063533</td>\n",
              "    </tr>\n",
              "    <tr>\n",
              "      <th>std</th>\n",
              "      <td>72.745925</td>\n",
              "      <td>0.229063</td>\n",
              "      <td>3.424515</td>\n",
              "      <td>8.728661</td>\n",
              "      <td>0.236604</td>\n",
              "      <td>0.0</td>\n",
              "      <td>7.907733e+06</td>\n",
              "      <td>22613.941236</td>\n",
              "      <td>22182.926604</td>\n",
              "      <td>13575.327152</td>\n",
              "      <td>...</td>\n",
              "      <td>2.211016</td>\n",
              "      <td>2.210930e+06</td>\n",
              "      <td>4.558418e+05</td>\n",
              "      <td>4.159600e+06</td>\n",
              "      <td>1.241015e+09</td>\n",
              "      <td>1.235101e+09</td>\n",
              "      <td>0.0</td>\n",
              "      <td>0.0</td>\n",
              "      <td>588.882050</td>\n",
              "      <td>0.243921</td>\n",
              "    </tr>\n",
              "    <tr>\n",
              "      <th>min</th>\n",
              "      <td>0.000000</td>\n",
              "      <td>2020.000000</td>\n",
              "      <td>1.000000</td>\n",
              "      <td>1.000000</td>\n",
              "      <td>14.000000</td>\n",
              "      <td>30.0</td>\n",
              "      <td>0.000000e+00</td>\n",
              "      <td>0.279700</td>\n",
              "      <td>0.268900</td>\n",
              "      <td>0.270000</td>\n",
              "      <td>...</td>\n",
              "      <td>0.000000</td>\n",
              "      <td>0.000000e+00</td>\n",
              "      <td>-1.173000e+07</td>\n",
              "      <td>2.194000e+02</td>\n",
              "      <td>-2.147444e+09</td>\n",
              "      <td>-2.147484e+09</td>\n",
              "      <td>18.0</td>\n",
              "      <td>18.0</td>\n",
              "      <td>0.000000</td>\n",
              "      <td>0.000000</td>\n",
              "    </tr>\n",
              "    <tr>\n",
              "      <th>25%</th>\n",
              "      <td>62.750000</td>\n",
              "      <td>2021.000000</td>\n",
              "      <td>4.000000</td>\n",
              "      <td>8.000000</td>\n",
              "      <td>15.000000</td>\n",
              "      <td>30.0</td>\n",
              "      <td>7.719675e+04</td>\n",
              "      <td>6.099900</td>\n",
              "      <td>5.700000</td>\n",
              "      <td>5.560000</td>\n",
              "      <td>...</td>\n",
              "      <td>0.300000</td>\n",
              "      <td>2.800000e+05</td>\n",
              "      <td>-4.000000e+04</td>\n",
              "      <td>1.102815e+05</td>\n",
              "      <td>-1.086559e+09</td>\n",
              "      <td>-1.078585e+09</td>\n",
              "      <td>18.0</td>\n",
              "      <td>18.0</td>\n",
              "      <td>0.549700</td>\n",
              "      <td>0.000000</td>\n",
              "    </tr>\n",
              "    <tr>\n",
              "      <th>50%</th>\n",
              "      <td>125.500000</td>\n",
              "      <td>2021.000000</td>\n",
              "      <td>7.000000</td>\n",
              "      <td>16.000000</td>\n",
              "      <td>15.000000</td>\n",
              "      <td>30.0</td>\n",
              "      <td>2.553615e+05</td>\n",
              "      <td>19.911450</td>\n",
              "      <td>18.860000</td>\n",
              "      <td>17.970000</td>\n",
              "      <td>...</td>\n",
              "      <td>0.700000</td>\n",
              "      <td>7.200000e+05</td>\n",
              "      <td>1.000000e+04</td>\n",
              "      <td>3.232925e+05</td>\n",
              "      <td>-1.074090e+07</td>\n",
              "      <td>-2.004285e+07</td>\n",
              "      <td>18.0</td>\n",
              "      <td>18.0</td>\n",
              "      <td>0.929700</td>\n",
              "      <td>0.000000</td>\n",
              "    </tr>\n",
              "    <tr>\n",
              "      <th>75%</th>\n",
              "      <td>188.250000</td>\n",
              "      <td>2021.000000</td>\n",
              "      <td>10.000000</td>\n",
              "      <td>23.000000</td>\n",
              "      <td>15.000000</td>\n",
              "      <td>30.0</td>\n",
              "      <td>8.202560e+05</td>\n",
              "      <td>51.452500</td>\n",
              "      <td>48.000000</td>\n",
              "      <td>41.610000</td>\n",
              "      <td>...</td>\n",
              "      <td>1.600000</td>\n",
              "      <td>1.630000e+06</td>\n",
              "      <td>7.000000e+04</td>\n",
              "      <td>1.027643e+06</td>\n",
              "      <td>1.071889e+09</td>\n",
              "      <td>1.058074e+09</td>\n",
              "      <td>18.0</td>\n",
              "      <td>18.0</td>\n",
              "      <td>1.078500</td>\n",
              "      <td>0.000000</td>\n",
              "    </tr>\n",
              "    <tr>\n",
              "      <th>max</th>\n",
              "      <td>251.000000</td>\n",
              "      <td>2021.000000</td>\n",
              "      <td>12.000000</td>\n",
              "      <td>31.000000</td>\n",
              "      <td>15.000000</td>\n",
              "      <td>30.0</td>\n",
              "      <td>8.054308e+08</td>\n",
              "      <td>847875.000000</td>\n",
              "      <td>861036.000000</td>\n",
              "      <td>829609.000000</td>\n",
              "      <td>...</td>\n",
              "      <td>26.600000</td>\n",
              "      <td>2.656000e+07</td>\n",
              "      <td>1.358000e+07</td>\n",
              "      <td>1.096805e+08</td>\n",
              "      <td>2.147458e+09</td>\n",
              "      <td>2.147430e+09</td>\n",
              "      <td>18.0</td>\n",
              "      <td>18.0</td>\n",
              "      <td>56344.000000</td>\n",
              "      <td>1.000000</td>\n",
              "    </tr>\n",
              "  </tbody>\n",
              "</table>\n",
              "<p>8 rows × 74 columns</p>\n",
              "</div>\n",
              "      <button class=\"colab-df-convert\" onclick=\"convertToInteractive('df-fa3948ca-9a0a-4a3d-80a9-1857c1f0bb37')\"\n",
              "              title=\"Convert this dataframe to an interactive table.\"\n",
              "              style=\"display:none;\">\n",
              "        \n",
              "  <svg xmlns=\"http://www.w3.org/2000/svg\" height=\"24px\"viewBox=\"0 0 24 24\"\n",
              "       width=\"24px\">\n",
              "    <path d=\"M0 0h24v24H0V0z\" fill=\"none\"/>\n",
              "    <path d=\"M18.56 5.44l.94 2.06.94-2.06 2.06-.94-2.06-.94-.94-2.06-.94 2.06-2.06.94zm-11 1L8.5 8.5l.94-2.06 2.06-.94-2.06-.94L8.5 2.5l-.94 2.06-2.06.94zm10 10l.94 2.06.94-2.06 2.06-.94-2.06-.94-.94-2.06-.94 2.06-2.06.94z\"/><path d=\"M17.41 7.96l-1.37-1.37c-.4-.4-.92-.59-1.43-.59-.52 0-1.04.2-1.43.59L10.3 9.45l-7.72 7.72c-.78.78-.78 2.05 0 2.83L4 21.41c.39.39.9.59 1.41.59.51 0 1.02-.2 1.41-.59l7.78-7.78 2.81-2.81c.8-.78.8-2.07 0-2.86zM5.41 20L4 18.59l7.72-7.72 1.47 1.35L5.41 20z\"/>\n",
              "  </svg>\n",
              "      </button>\n",
              "      \n",
              "  <style>\n",
              "    .colab-df-container {\n",
              "      display:flex;\n",
              "      flex-wrap:wrap;\n",
              "      gap: 12px;\n",
              "    }\n",
              "\n",
              "    .colab-df-convert {\n",
              "      background-color: #E8F0FE;\n",
              "      border: none;\n",
              "      border-radius: 50%;\n",
              "      cursor: pointer;\n",
              "      display: none;\n",
              "      fill: #1967D2;\n",
              "      height: 32px;\n",
              "      padding: 0 0 0 0;\n",
              "      width: 32px;\n",
              "    }\n",
              "\n",
              "    .colab-df-convert:hover {\n",
              "      background-color: #E2EBFA;\n",
              "      box-shadow: 0px 1px 2px rgba(60, 64, 67, 0.3), 0px 1px 3px 1px rgba(60, 64, 67, 0.15);\n",
              "      fill: #174EA6;\n",
              "    }\n",
              "\n",
              "    [theme=dark] .colab-df-convert {\n",
              "      background-color: #3B4455;\n",
              "      fill: #D2E3FC;\n",
              "    }\n",
              "\n",
              "    [theme=dark] .colab-df-convert:hover {\n",
              "      background-color: #434B5C;\n",
              "      box-shadow: 0px 1px 3px 1px rgba(0, 0, 0, 0.15);\n",
              "      filter: drop-shadow(0px 1px 2px rgba(0, 0, 0, 0.3));\n",
              "      fill: #FFFFFF;\n",
              "    }\n",
              "  </style>\n",
              "\n",
              "      <script>\n",
              "        const buttonEl =\n",
              "          document.querySelector('#df-fa3948ca-9a0a-4a3d-80a9-1857c1f0bb37 button.colab-df-convert');\n",
              "        buttonEl.style.display =\n",
              "          google.colab.kernel.accessAllowed ? 'block' : 'none';\n",
              "\n",
              "        async function convertToInteractive(key) {\n",
              "          const element = document.querySelector('#df-fa3948ca-9a0a-4a3d-80a9-1857c1f0bb37');\n",
              "          const dataTable =\n",
              "            await google.colab.kernel.invokeFunction('convertToInteractive',\n",
              "                                                     [key], {});\n",
              "          if (!dataTable) return;\n",
              "\n",
              "          const docLinkHtml = 'Like what you see? Visit the ' +\n",
              "            '<a target=\"_blank\" href=https://colab.research.google.com/notebooks/data_table.ipynb>data table notebook</a>'\n",
              "            + ' to learn more about interactive tables.';\n",
              "          element.innerHTML = '';\n",
              "          dataTable['output_type'] = 'display_data';\n",
              "          await google.colab.output.renderOutput(dataTable, element);\n",
              "          const docLink = document.createElement('div');\n",
              "          docLink.innerHTML = docLinkHtml;\n",
              "          element.appendChild(docLink);\n",
              "        }\n",
              "      </script>\n",
              "    </div>\n",
              "  </div>\n",
              "  "
            ]
          },
          "metadata": {},
          "execution_count": 33
        }
      ]
    },
    {
      "cell_type": "code",
      "source": [
        "print(len(stock_market_dataset))"
      ],
      "metadata": {
        "colab": {
          "base_uri": "https://localhost:8080/"
        },
        "id": "DjUJ9OkMZb0I",
        "outputId": "5c1a9f02-a28f-405a-939a-f4564e562613"
      },
      "execution_count": 34,
      "outputs": [
        {
          "output_type": "stream",
          "name": "stdout",
          "text": [
            "100044\n"
          ]
        }
      ]
    },
    {
      "cell_type": "code",
      "source": [
        "stock_market_dataset['open'].plot(figsize=(18,8))"
      ],
      "metadata": {
        "colab": {
          "base_uri": "https://localhost:8080/",
          "height": 501
        },
        "id": "d4VdmLUMZtgp",
        "outputId": "c7959a13-22bf-4f34-c5be-6ea0981249c1"
      },
      "execution_count": 35,
      "outputs": [
        {
          "output_type": "execute_result",
          "data": {
            "text/plain": [
              "<matplotlib.axes._subplots.AxesSubplot at 0x7f2baa8ea040>"
            ]
          },
          "metadata": {},
          "execution_count": 35
        },
        {
          "output_type": "display_data",
          "data": {
            "text/plain": [
              "<Figure size 1296x576 with 1 Axes>"
            ],
            "image/png": "[encoded data removed]"
          },
          "metadata": {
            "needs_background": "light"
          }
        }
      ]
    },
    {
      "cell_type": "code",
      "source": [
        "x = stock_market_dataset[['open','high','low','volume']]\n",
        "y = stock_market_dataset['close']"
      ],
      "metadata": {
        "id": "HhapP-2Sf2F9"
      },
      "execution_count": 53,
      "outputs": []
    },
    {
      "cell_type": "code",
      "source": [
        "x_train , x_test , y_train , y_test = train_test_split(x , y , random_state= 0)"
      ],
      "metadata": {
        "id": "8Q_mFCwnmZV8"
      },
      "execution_count": 54,
      "outputs": []
    },
    {
      "cell_type": "code",
      "source": [
        "x_train.shape"
      ],
      "metadata": {
        "id": "hQRao7Z-nPw6",
        "colab": {
          "base_uri": "https://localhost:8080/"
        },
        "outputId": "47421f1d-b7c8-43a5-a216-42dae671f0b8"
      },
      "execution_count": 55,
      "outputs": [
        {
          "output_type": "execute_result",
          "data": {
            "text/plain": [
              "(75033, 4)"
            ]
          },
          "metadata": {},
          "execution_count": 55
        }
      ]
    },
    {
      "cell_type": "code",
      "source": [
        "x_test.shape"
      ],
      "metadata": {
        "id": "qypUzAIAnb7v",
        "colab": {
          "base_uri": "https://localhost:8080/"
        },
        "outputId": "16e51ae0-dd46-4a55-b955-0aa95a4c9814"
      },
      "execution_count": 56,
      "outputs": [
        {
          "output_type": "execute_result",
          "data": {
            "text/plain": [
              "(25011, 4)"
            ]
          },
          "metadata": {},
          "execution_count": 56
        }
      ]
    },
    {
      "cell_type": "code",
      "source": [
        "from sklearn.linear_model import LinearRegression\n",
        "from sklearn.metrics import confusion_matrix, accuracy_score\n",
        "regressor = LinearRegression()"
      ],
      "metadata": {
        "id": "Nb7FAHVBnhfJ"
      },
      "execution_count": 57,
      "outputs": []
    },
    {
      "cell_type": "code",
      "source": [
        "regressor.fit(x_train , y_train)"
      ],
      "metadata": {
        "id": "gY5i2y1sopUb",
        "colab": {
          "base_uri": "https://localhost:8080/"
        },
        "outputId": "2f4d0fd5-63d2-4e14-c5b3-0a97f3dab87b"
      },
      "execution_count": 58,
      "outputs": [
        {
          "output_type": "execute_result",
          "data": {
            "text/plain": [
              "LinearRegression()"
            ]
          },
          "metadata": {},
          "execution_count": 58
        }
      ]
    },
    {
      "cell_type": "code",
      "source": [
        "print(regressor.coef_)"
      ],
      "metadata": {
        "id": "rR9WfAIXo1bF",
        "colab": {
          "base_uri": "https://localhost:8080/"
        },
        "outputId": "7716ad47-79f1-47a1-a050-c354a048b105"
      },
      "execution_count": 60,
      "outputs": [
        {
          "output_type": "stream",
          "name": "stdout",
          "text": [
            "[2.71860712e-03 1.70105215e-03 7.85304700e-04 4.26034327e-07]\n"
          ]
        }
      ]
    },
    {
      "cell_type": "code",
      "source": [
        "print(regressor.intercept_)"
      ],
      "metadata": {
        "colab": {
          "base_uri": "https://localhost:8080/"
        },
        "id": "Ieq0_SeD-ve_",
        "outputId": "4777d06e-a7f4-4b99-d1d9-0a8357eba99c"
      },
      "execution_count": 62,
      "outputs": [
        {
          "output_type": "stream",
          "name": "stdout",
          "text": [
            "247.99520649890627\n"
          ]
        }
      ]
    },
    {
      "cell_type": "code",
      "source": [
        "predicted=regressor.predict(x_test)"
      ],
      "metadata": {
        "id": "Alf_zNnR--OM"
      },
      "execution_count": 64,
      "outputs": []
    },
    {
      "cell_type": "code",
      "source": [
        "print(x_test)"
      ],
      "metadata": {
        "colab": {
          "base_uri": "https://localhost:8080/"
        },
        "id": "C7L4fFOk_N4K",
        "outputId": "e5b6431a-e181-4ef1-83c4-f2108f381dc9"
      },
      "execution_count": 66,
      "outputs": [
        {
          "output_type": "stream",
          "name": "stdout",
          "text": [
            "         open      high     low   volume\n",
            "28130    6.89    6.9800    6.73    65139\n",
            "3237     7.16    7.2695    6.64  1964258\n",
            "31516    3.75    3.7600    3.67    53365\n",
            "78618    7.00    7.0300    6.57   430989\n",
            "72890    3.81    3.8700    3.66   109789\n",
            "...       ...       ...     ...      ...\n",
            "62641    2.84    2.9000    2.77   986028\n",
            "43697    6.50    7.0800    6.46   333807\n",
            "44693   27.71   28.9800   27.64   779152\n",
            "78075    5.59    5.6000    5.40  1511912\n",
            "48779  138.74  139.7225  136.32   778452\n",
            "\n",
            "[25011 rows x 4 columns]\n"
          ]
        }
      ]
    },
    {
      "cell_type": "code",
      "source": [
        "predicted.shape"
      ],
      "metadata": {
        "colab": {
          "base_uri": "https://localhost:8080/"
        },
        "id": "d8EdTAM7_cLC",
        "outputId": "3b764c29-2d99-4e78-ea62-777973b34258"
      },
      "execution_count": 68,
      "outputs": [
        {
          "output_type": "execute_result",
          "data": {
            "text/plain": [
              "(25011,)"
            ]
          },
          "metadata": {},
          "execution_count": 68
        }
      ]
    },
    {
      "cell_type": "code",
      "source": [
        "dframe=pd.DataFrame(y_test,predicted)"
      ],
      "metadata": {
        "id": "XjWYDWGR_iEE"
      },
      "execution_count": 71,
      "outputs": []
    },
    {
      "cell_type": "code",
      "source": [
        "dfr=pd.DataFrame({'Actual price':y_test,'predicted price':predicted})"
      ],
      "metadata": {
        "id": "IQmHD9YCAC5T"
      },
      "execution_count": 73,
      "outputs": []
    },
    {
      "cell_type": "code",
      "source": [
        "print(dfr)"
      ],
      "metadata": {
        "colab": {
          "base_uri": "https://localhost:8080/"
        },
        "id": "aAV9anLlAyTj",
        "outputId": "b6e505d1-d6d2-460c-e280-a7903d6be7f8"
      },
      "execution_count": 75,
      "outputs": [
        {
          "output_type": "stream",
          "name": "stdout",
          "text": [
            "       Actual price  predicted price\n",
            "28130          6.98       248.058848\n",
            "3237           7.18       248.869093\n",
            "31516          3.71       248.037415\n",
            "78618          6.59       248.214971\n",
            "72890          3.71       248.061796\n",
            "...             ...              ...\n",
            "62641          2.81       248.430117\n",
            "43697          6.96       248.172207\n",
            "44693         28.88       248.473487\n",
            "78075          5.45       248.668296\n",
            "48779        139.33       249.048761\n",
            "\n",
            "[25011 rows x 2 columns]\n"
          ]
        }
      ]
    },
    {
      "cell_type": "code",
      "source": [
        "dfr.head(20)"
      ],
      "metadata": {
        "colab": {
          "base_uri": "https://localhost:8080/",
          "height": 676
        },
        "id": "bqSfFklnA8Hg",
        "outputId": "d0ad30d3-8d4e-40da-8a66-47bcf0b53a9c"
      },
      "execution_count": 78,
      "outputs": [
        {
          "output_type": "execute_result",
          "data": {
            "text/plain": [
              "       Actual price  predicted price\n",
              "28130        6.9800       248.058848\n",
              "3237         7.1800       248.869093\n",
              "31516        3.7100       248.037415\n",
              "78618        6.5900       248.214971\n",
              "72890        3.7100       248.061796\n",
              "55660       40.5500       248.395533\n",
              "2463        31.2600       248.163951\n",
              "38714        1.7600       248.621247\n",
              "86276        1.5700       249.985018\n",
              "29865      107.3700       249.156698\n",
              "37876       57.0300       345.703442\n",
              "52412        5.8000       252.887218\n",
              "62807       10.0247       248.049558\n",
              "54637        4.5400       248.374479\n",
              "38747        2.0000       249.085635\n",
              "82492        8.7400       248.124642\n",
              "43164        6.9200       248.059389\n",
              "53907      131.5300       248.715847\n",
              "76756        1.4500       248.566605\n",
              "50172       30.1900       248.224506"
            ],
            "text/html": [
              "\n",
              "  <div id=\"df-c23dc202-4098-49fb-969d-a7583028317c\">\n",
              "    <div class=\"colab-df-container\">\n",
              "      <div>\n",
              "<style scoped>\n",
              "    .dataframe tbody tr th:only-of-type {\n",
              "        vertical-align: middle;\n",
              "    }\n",
              "\n",
              "    .dataframe tbody tr th {\n",
              "        vertical-align: top;\n",
              "    }\n",
              "\n",
              "    .dataframe thead th {\n",
              "        text-align: right;\n",
              "    }\n",
              "</style>\n",
              "<table border=\"1\" class=\"dataframe\">\n",
              "  <thead>\n",
              "    <tr style=\"text-align: right;\">\n",
              "      <th></th>\n",
              "      <th>Actual price</th>\n",
              "      <th>predicted price</th>\n",
              "    </tr>\n",
              "  </thead>\n",
              "  <tbody>\n",
              "    <tr>\n",
              "      <th>28130</th>\n",
              "      <td>6.9800</td>\n",
              "      <td>248.058848</td>\n",
              "    </tr>\n",
              "    <tr>\n",
              "      <th>3237</th>\n",
              "      <td>7.1800</td>\n",
              "      <td>248.869093</td>\n",
              "    </tr>\n",
              "    <tr>\n",
              "      <th>31516</th>\n",
              "      <td>3.7100</td>\n",
              "      <td>248.037415</td>\n",
              "    </tr>\n",
              "    <tr>\n",
              "      <th>78618</th>\n",
              "      <td>6.5900</td>\n",
              "      <td>248.214971</td>\n",
              "    </tr>\n",
              "    <tr>\n",
              "      <th>72890</th>\n",
              "      <td>3.7100</td>\n",
              "      <td>248.061796</td>\n",
              "    </tr>\n",
              "    <tr>\n",
              "      <th>55660</th>\n",
              "      <td>40.5500</td>\n",
              "      <td>248.395533</td>\n",
              "    </tr>\n",
              "    <tr>\n",
              "      <th>2463</th>\n",
              "      <td>31.2600</td>\n",
              "      <td>248.163951</td>\n",
              "    </tr>\n",
              "    <tr>\n",
              "      <th>38714</th>\n",
              "      <td>1.7600</td>\n",
              "      <td>248.621247</td>\n",
              "    </tr>\n",
              "    <tr>\n",
              "      <th>86276</th>\n",
              "      <td>1.5700</td>\n",
              "      <td>249.985018</td>\n",
              "    </tr>\n",
              "    <tr>\n",
              "      <th>29865</th>\n",
              "      <td>107.3700</td>\n",
              "      <td>249.156698</td>\n",
              "    </tr>\n",
              "    <tr>\n",
              "      <th>37876</th>\n",
              "      <td>57.0300</td>\n",
              "      <td>345.703442</td>\n",
              "    </tr>\n",
              "    <tr>\n",
              "      <th>52412</th>\n",
              "      <td>5.8000</td>\n",
              "      <td>252.887218</td>\n",
              "    </tr>\n",
              "    <tr>\n",
              "      <th>62807</th>\n",
              "      <td>10.0247</td>\n",
              "      <td>248.049558</td>\n",
              "    </tr>\n",
              "    <tr>\n",
              "      <th>54637</th>\n",
              "      <td>4.5400</td>\n",
              "      <td>248.374479</td>\n",
              "    </tr>\n",
              "    <tr>\n",
              "      <th>38747</th>\n",
              "      <td>2.0000</td>\n",
              "      <td>249.085635</td>\n",
              "    </tr>\n",
              "    <tr>\n",
              "      <th>82492</th>\n",
              "      <td>8.7400</td>\n",
              "      <td>248.124642</td>\n",
              "    </tr>\n",
              "    <tr>\n",
              "      <th>43164</th>\n",
              "      <td>6.9200</td>\n",
              "      <td>248.059389</td>\n",
              "    </tr>\n",
              "    <tr>\n",
              "      <th>53907</th>\n",
              "      <td>131.5300</td>\n",
              "      <td>248.715847</td>\n",
              "    </tr>\n",
              "    <tr>\n",
              "      <th>76756</th>\n",
              "      <td>1.4500</td>\n",
              "      <td>248.566605</td>\n",
              "    </tr>\n",
              "    <tr>\n",
              "      <th>50172</th>\n",
              "      <td>30.1900</td>\n",
              "      <td>248.224506</td>\n",
              "    </tr>\n",
              "  </tbody>\n",
              "</table>\n",
              "</div>\n",
              "      <button class=\"colab-df-convert\" onclick=\"convertToInteractive('df-c23dc202-4098-49fb-969d-a7583028317c')\"\n",
              "              title=\"Convert this dataframe to an interactive table.\"\n",
              "              style=\"display:none;\">\n",
              "        \n",
              "  <svg xmlns=\"http://www.w3.org/2000/svg\" height=\"24px\"viewBox=\"0 0 24 24\"\n",
              "       width=\"24px\">\n",
              "    <path d=\"M0 0h24v24H0V0z\" fill=\"none\"/>\n",
              "    <path d=\"M18.56 5.44l.94 2.06.94-2.06 2.06-.94-2.06-.94-.94-2.06-.94 2.06-2.06.94zm-11 1L8.5 8.5l.94-2.06 2.06-.94-2.06-.94L8.5 2.5l-.94 2.06-2.06.94zm10 10l.94 2.06.94-2.06 2.06-.94-2.06-.94-.94-2.06-.94 2.06-2.06.94z\"/><path d=\"M17.41 7.96l-1.37-1.37c-.4-.4-.92-.59-1.43-.59-.52 0-1.04.2-1.43.59L10.3 9.45l-7.72 7.72c-.78.78-.78 2.05 0 2.83L4 21.41c.39.39.9.59 1.41.59.51 0 1.02-.2 1.41-.59l7.78-7.78 2.81-2.81c.8-.78.8-2.07 0-2.86zM5.41 20L4 18.59l7.72-7.72 1.47 1.35L5.41 20z\"/>\n",
              "  </svg>\n",
              "      </button>\n",
              "      \n",
              "  <style>\n",
              "    .colab-df-container {\n",
              "      display:flex;\n",
              "      flex-wrap:wrap;\n",
              "      gap: 12px;\n",
              "    }\n",
              "\n",
              "    .colab-df-convert {\n",
              "      background-color: #E8F0FE;\n",
              "      border: none;\n",
              "      border-radius: 50%;\n",
              "      cursor: pointer;\n",
              "      display: none;\n",
              "      fill: #1967D2;\n",
              "      height: 32px;\n",
              "      padding: 0 0 0 0;\n",
              "      width: 32px;\n",
              "    }\n",
              "\n",
              "    .colab-df-convert:hover {\n",
              "      background-color: #E2EBFA;\n",
              "      box-shadow: 0px 1px 2px rgba(60, 64, 67, 0.3), 0px 1px 3px 1px rgba(60, 64, 67, 0.15);\n",
              "      fill: #174EA6;\n",
              "    }\n",
              "\n",
              "    [theme=dark] .colab-df-convert {\n",
              "      background-color: #3B4455;\n",
              "      fill: #D2E3FC;\n",
              "    }\n",
              "\n",
              "    [theme=dark] .colab-df-convert:hover {\n",
              "      background-color: #434B5C;\n",
              "      box-shadow: 0px 1px 3px 1px rgba(0, 0, 0, 0.15);\n",
              "      filter: drop-shadow(0px 1px 2px rgba(0, 0, 0, 0.3));\n",
              "      fill: #FFFFFF;\n",
              "    }\n",
              "  </style>\n",
              "\n",
              "      <script>\n",
              "        const buttonEl =\n",
              "          document.querySelector('#df-c23dc202-4098-49fb-969d-a7583028317c button.colab-df-convert');\n",
              "        buttonEl.style.display =\n",
              "          google.colab.kernel.accessAllowed ? 'block' : 'none';\n",
              "\n",
              "        async function convertToInteractive(key) {\n",
              "          const element = document.querySelector('#df-c23dc202-4098-49fb-969d-a7583028317c');\n",
              "          const dataTable =\n",
              "            await google.colab.kernel.invokeFunction('convertToInteractive',\n",
              "                                                     [key], {});\n",
              "          if (!dataTable) return;\n",
              "\n",
              "          const docLinkHtml = 'Like what you see? Visit the ' +\n",
              "            '<a target=\"_blank\" href=https://colab.research.google.com/notebooks/data_table.ipynb>data table notebook</a>'\n",
              "            + ' to learn more about interactive tables.';\n",
              "          element.innerHTML = '';\n",
              "          dataTable['output_type'] = 'display_data';\n",
              "          await google.colab.output.renderOutput(dataTable, element);\n",
              "          const docLink = document.createElement('div');\n",
              "          docLink.innerHTML = docLinkHtml;\n",
              "          element.appendChild(docLink);\n",
              "        }\n",
              "      </script>\n",
              "    </div>\n",
              "  </div>\n",
              "  "
            ]
          },
          "metadata": {},
          "execution_count": 78
        }
      ]
    },
    {
      "cell_type": "code",
      "source": [
        "regressor.score(x_test,y_test)"
      ],
      "metadata": {
        "colab": {
          "base_uri": "https://localhost:8080/"
        },
        "id": "i87zixd4BFus",
        "outputId": "e49049c6-6de3-4cbf-8f78-e72a77f2c8d8"
      },
      "execution_count": 80,
      "outputs": [
        {
          "output_type": "execute_result",
          "data": {
            "text/plain": [
              "0.0003433057674505635"
            ]
          },
          "metadata": {},
          "execution_count": 80
        }
      ]
    },
    {
      "cell_type": "code",
      "source": [
        "print('Mean Absolute Error:',metrics.mean_absolute_error(y_test,predicted))"
      ],
      "metadata": {
        "colab": {
          "base_uri": "https://localhost:8080/"
        },
        "id": "zQ0JY4_bBeeN",
        "outputId": "5c032c00-71ce-4734-f35b-89cfd9f81a9c"
      },
      "execution_count": 83,
      "outputs": [
        {
          "output_type": "stream",
          "name": "stdout",
          "text": [
            "Mean Absolute Error: 441.2746738552799\n"
          ]
        }
      ]
    },
    {
      "cell_type": "code",
      "source": [
        "print('Mesn Squared Error:' ,metrics.mean_squared_error(y_test,predicted))"
      ],
      "metadata": {
        "colab": {
          "base_uri": "https://localhost:8080/"
        },
        "id": "b_gnEzsfCKma",
        "outputId": "183f3565-bb65-490c-9526-f8e7fa967f10"
      },
      "execution_count": 85,
      "outputs": [
        {
          "output_type": "stream",
          "name": "stdout",
          "text": [
            "Mesn Squared Error: 12282431.026595615\n"
          ]
        }
      ]
    },
    {
      "cell_type": "code",
      "source": [
        "print('Root Mean Squared Error',math.sqrt(metrics.mean_squared_error(y_test,predicted)))"
      ],
      "metadata": {
        "colab": {
          "base_uri": "https://localhost:8080/"
        },
        "id": "lDZTfN8nCmWI",
        "outputId": "4711439e-701d-42f0-d3c4-543c4d7d49bc"
      },
      "execution_count": 87,
      "outputs": [
        {
          "output_type": "stream",
          "name": "stdout",
          "text": [
            "Root Mean Squared Error 3504.629941462524\n"
          ]
        }
      ]
    },
    {
      "cell_type": "code",
      "source": [
        "graph=dfr.head(20)"
      ],
      "metadata": {
        "id": "_AcBepaSDdIr"
      },
      "execution_count": 89,
      "outputs": []
    },
    {
      "cell_type": "code",
      "source": [
        "graph.plot(kind='bar')"
      ],
      "metadata": {
        "colab": {
          "base_uri": "https://localhost:8080/",
          "height": 305
        },
        "id": "mPvgbCNwDnEA",
        "outputId": "c707db3d-b686-4dac-c052-ced4df5ade5a"
      },
      "execution_count": 91,
      "outputs": [
        {
          "output_type": "execute_result",
          "data": {
            "text/plain": [
              "<matplotlib.axes._subplots.AxesSubplot at 0x7f2b994d1220>"
            ]
          },
          "metadata": {},
          "execution_count": 91
        },
        {
          "output_type": "display_data",
          "data": {
            "text/plain": [
              "<Figure size 432x288 with 1 Axes>"
            ],
            "image/png": "[encoded data removed]"
          },
          "metadata": {
            "needs_background": "light"
          }
        }
      ]
    }
  ]
}